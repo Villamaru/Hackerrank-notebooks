{
 "cells": [
  {
   "cell_type": "markdown",
   "metadata": {},
   "source": [
    "## Solve Me First\n",
    "\n",
    "Function prototype:\n",
    "\n",
    "int solveMeFirst(int a, int b);\n",
    "\n",
    "where,\n",
    "\n",
    "    a is the first integer input.\n",
    "    b is the second integer input\n",
    "\n",
    "Return values\n",
    "\n",
    "    sum of the above two integers\n"
   ]
  },
  {
   "cell_type": "code",
   "execution_count": 2,
   "metadata": {},
   "outputs": [],
   "source": [
    "def solveMeFirst(a,b):\n",
    "    return a+b"
   ]
  },
  {
   "cell_type": "markdown",
   "metadata": {},
   "source": [
    "## Simple Array Sum\n",
    "Given an array of integers, find the sum of its elements."
   ]
  },
  {
   "cell_type": "code",
   "execution_count": null,
   "metadata": {},
   "outputs": [],
   "source": [
    "def simpleArraySum(ar):\n",
    "    su = 0\n",
    "    for i in range(len(ar)):\n",
    "        su = su + ar[i]\n",
    "    return su    "
   ]
  },
  {
   "cell_type": "markdown",
   "metadata": {},
   "source": [
    "## Compare the Triplets\n",
    "Function Description\n",
    "\n",
    "Complete the function compareTriplets in the editor below. It must return an array of two integers, the first being Alice's score and the second being Bob's.\n",
    "\n",
    "compareTriplets has the following parameter(s):\n",
    "\n",
    "    a: an array of integers representing Alice's challenge rating\n",
    "    b: an array of integers representing Bob's challenge rating\n"
   ]
  },
  {
   "cell_type": "code",
   "execution_count": null,
   "metadata": {},
   "outputs": [],
   "source": [
    "def compareTriplets(a, b):\n",
    "    punto_1 = 0\n",
    "    punto_2 = 0\n",
    "    for i in [0,1,2]:\n",
    "        if a[i] > b[i]:\n",
    "            punto_1 = punto_1 + 1\n",
    "        elif a[i]<b[i]:\n",
    "            punto_2 = punto_2 + 1\n",
    "        else:\n",
    "            pass\n",
    "    return punto_1,punto_2"
   ]
  },
  {
   "cell_type": "code",
   "execution_count": null,
   "metadata": {},
   "outputs": [],
   "source": []
  }
 ],
 "metadata": {
  "kernelspec": {
   "display_name": "Python 3",
   "language": "python",
   "name": "python3"
  },
  "language_info": {
   "codemirror_mode": {
    "name": "ipython",
    "version": 3
   },
   "file_extension": ".py",
   "mimetype": "text/x-python",
   "name": "python",
   "nbconvert_exporter": "python",
   "pygments_lexer": "ipython3",
   "version": "3.6.6"
  }
 },
 "nbformat": 4,
 "nbformat_minor": 2
}
