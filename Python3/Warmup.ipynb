{
 "cells": [
  {
   "cell_type": "markdown",
   "metadata": {},
   "source": [
    "## Solve Me First\n",
    "\n",
    "Function prototype:\n",
    "\n",
    "int solveMeFirst(int a, int b);\n",
    "\n",
    "where,\n",
    "\n",
    "    a is the first integer input.\n",
    "    b is the second integer input\n",
    "\n",
    "Return values\n",
    "\n",
    "    sum of the above two integers\n"
   ]
  },
  {
   "cell_type": "code",
   "execution_count": 1,
   "metadata": {},
   "outputs": [],
   "source": [
    "def solveMeFirst(a,b):\n",
    "    return a+b"
   ]
  },
  {
   "cell_type": "markdown",
   "metadata": {},
   "source": [
    "## Simple Array Sum\n",
    "Given an array of integers, find the sum of its elements."
   ]
  },
  {
   "cell_type": "code",
   "execution_count": 2,
   "metadata": {},
   "outputs": [],
   "source": [
    "def simpleArraySum(ar):\n",
    "    su = 0\n",
    "    for i in range(len(ar)):\n",
    "        su = su + ar[i]\n",
    "    return su    "
   ]
  },
  {
   "cell_type": "markdown",
   "metadata": {},
   "source": [
    "## Compare the Triplets\n",
    "Function Description\n",
    "\n",
    "Complete the function compareTriplets in the editor below. It must return an array of two integers, the first being Alice's score and the second being Bob's.\n",
    "\n",
    "compareTriplets has the following parameter(s):\n",
    "\n",
    "    a: an array of integers representing Alice's challenge rating\n",
    "    b: an array of integers representing Bob's challenge rating\n"
   ]
  },
  {
   "cell_type": "code",
   "execution_count": 3,
   "metadata": {},
   "outputs": [],
   "source": [
    "def compareTriplets(a, b):\n",
    "    punto_1 = 0\n",
    "    punto_2 = 0\n",
    "    for i in [0,1,2]:\n",
    "        if a[i] > b[i]:\n",
    "            punto_1 = punto_1 + 1\n",
    "        elif a[i]<b[i]:\n",
    "            punto_2 = punto_2 + 1\n",
    "        else:\n",
    "            pass\n",
    "    return punto_1,punto_2"
   ]
  },
  {
   "cell_type": "markdown",
   "metadata": {},
   "source": [
    "## Plus Minus\n",
    "\n",
    "https://www.hackerrank.com/challenges/plus-minus/problem\n",
    "\n",
    "Given an array of integers, calculate the fractions of its elements that are positive, negative, and are zeros. Print the decimal value of each fraction on a new line."
   ]
  },
  {
   "cell_type": "code",
   "execution_count": 4,
   "metadata": {},
   "outputs": [
    {
     "data": {
      "text/plain": [
       "(0.5, 0.3333333333333333, 0.16666666666666666)"
      ]
     },
     "execution_count": 4,
     "metadata": {},
     "output_type": "execute_result"
    }
   ],
   "source": [
    "n = 6\n",
    "arr = [-4, 3 ,-9, 0, 4 ,1]\n",
    "\n",
    "def plusMinus(arr):\n",
    "    tot = len(arr)\n",
    "    pos = 0\n",
    "    neg = 0\n",
    "    zero = 0\n",
    "    for i in arr:\n",
    "        if i > 0:\n",
    "            pos += 1\n",
    "        elif i == 0:\n",
    "            zero += 1\n",
    "        else:\n",
    "            neg +=1\n",
    "        \n",
    "    return pos/tot,neg/tot,zero/tot\n",
    "plusMinus(arr)\n",
    "    "
   ]
  },
  {
   "cell_type": "markdown",
   "metadata": {},
   "source": [
    "## Staircase\n",
    "\n",
    "https://www.hackerrank.com/challenges/staircase/problem\n",
    "\n",
    "Consider a staircase of size n = 4:\n",
    "\n",
    "   #\n",
    "  ##\n",
    " ###\n",
    "####\n",
    "\n",
    "Observe that its base and height are both equal to n, and the image is drawn using # symbols and spaces. The last line is not preceded by any spaces.\n",
    "\n",
    "Write a program that prints a staircase of size n. \n",
    "   \n",
    "The staircase is right-aligned, composed of # symbols and spaces.\n",
    "    "
   ]
  },
  {
   "cell_type": "code",
   "execution_count": 5,
   "metadata": {},
   "outputs": [
    {
     "name": "stdout",
     "output_type": "stream",
     "text": [
      "     #\n",
      "    ##\n",
      "   ###\n",
      "  ####\n",
      " #####\n",
      "######\n"
     ]
    }
   ],
   "source": [
    "def staircase(n):\n",
    "    for i in range(1,n+1):\n",
    "        print(\"\".rjust(n-i,\" \")+\"\".ljust(i,\"#\"))\n",
    "        \n",
    "staircase(6)        "
   ]
  },
  {
   "cell_type": "markdown",
   "metadata": {},
   "source": [
    "## Mini-Max Sum\n",
    "https://www.hackerrank.com/challenges/mini-max-sum/problem\n",
    "\n",
    "Given five positive integers, find the minimum and maximum values that can be calculated by summing exactly four of the five integers. Then print the respective minimum and maximum values as a single line of two space-separated long integers. "
   ]
  },
  {
   "cell_type": "code",
   "execution_count": 6,
   "metadata": {},
   "outputs": [
    {
     "data": {
      "text/plain": [
       "(10, 14)"
      ]
     },
     "execution_count": 6,
     "metadata": {},
     "output_type": "execute_result"
    }
   ],
   "source": [
    "arr = [1, 2, 3, 4, 5] # output: 10 14\n",
    "\n",
    "def miniMaxSum(arr):\n",
    "    arr.sort()\n",
    "    return sum(arr[:-1]),sum(arr[1:])\n",
    "\n",
    "\n",
    "miniMaxSum(arr)"
   ]
  },
  {
   "cell_type": "markdown",
   "metadata": {},
   "source": [
    "## Birthday Cake Candles\n",
    "\n",
    "https://www.hackerrank.com/challenges/birthday-cake-candles/problem\n",
    "\n",
    "You are in charge of the cake for your niece's birthday and have decided the cake will have one candle for each year of her total age. When she blows out the candles, she’ll only be able to blow out the tallest ones. Your task is to find out how many candles she can successfully blow out. "
   ]
  },
  {
   "cell_type": "code",
   "execution_count": 7,
   "metadata": {},
   "outputs": [
    {
     "data": {
      "text/plain": [
       "2"
      ]
     },
     "execution_count": 7,
     "metadata": {},
     "output_type": "execute_result"
    }
   ],
   "source": [
    "4\n",
    "arr = [3, 2, 1, 3] #output: 2\n",
    "\n",
    "def birthdayCakeCandles(arr):\n",
    "    \n",
    "    return arr.count(max(arr))\n",
    "\n",
    "birthdayCakeCandles(arr)"
   ]
  },
  {
   "cell_type": "markdown",
   "metadata": {},
   "source": [
    "## Time Conversion\n",
    "\n",
    "https://www.hackerrank.com/challenges/time-conversion/problem\n",
    "\n",
    "Given a time in 12-hour AM/PM format, convert it to military (24-hour) time. "
   ]
  },
  {
   "cell_type": "code",
   "execution_count": 8,
   "metadata": {},
   "outputs": [
    {
     "data": {
      "text/plain": [
       "'19:05:45'"
      ]
     },
     "execution_count": 8,
     "metadata": {},
     "output_type": "execute_result"
    }
   ],
   "source": [
    "s = \"07:05:45PM\" #19:05:45\n",
    "\n",
    "def timeConversion(s):\n",
    "    if s[-2:] == \"PM\":\n",
    "        if s[:2] != 12:\n",
    "            s = s.replace(s[:2],str(int(s[:2])+12),1)\n",
    "    elif s[:2] == \"12\":\n",
    "        s = s.replace(s[:2],\"00\",1)\n",
    "    \n",
    "    return s[:-2]\n",
    "\n",
    "timeConversion(s)"
   ]
  },
  {
   "cell_type": "code",
   "execution_count": null,
   "metadata": {},
   "outputs": [],
   "source": []
  }
 ],
 "metadata": {
  "kernelspec": {
   "display_name": "Python 3",
   "language": "python",
   "name": "python3"
  },
  "language_info": {
   "codemirror_mode": {
    "name": "ipython",
    "version": 3
   },
   "file_extension": ".py",
   "mimetype": "text/x-python",
   "name": "python",
   "nbconvert_exporter": "python",
   "pygments_lexer": "ipython3",
   "version": "3.6.6"
  }
 },
 "nbformat": 4,
 "nbformat_minor": 2
}
