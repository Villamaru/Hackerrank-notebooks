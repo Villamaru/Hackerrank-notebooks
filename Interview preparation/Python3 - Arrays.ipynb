{
 "cells": [
  {
   "cell_type": "markdown",
   "metadata": {},
   "source": [
    "## 2D Array - DS\n",
    "\n",
    "https://www.hackerrank.com/challenges/2d-array/problem"
   ]
  },
  {
   "cell_type": "code",
   "execution_count": 14,
   "metadata": {},
   "outputs": [
    {
     "data": {
      "text/plain": [
       "19"
      ]
     },
     "execution_count": 14,
     "metadata": {},
     "output_type": "execute_result"
    }
   ],
   "source": [
    "arr = [[1, 1, 1, 0, 0, 0], [0, 1, 0, 0, 0, 0], [1, 1, 1, 0, 0, 0], [0, 0, 2, 4, 4, 0], [0, 0, 0, 2, 0, 0], [0, 0, 1, 2, 4, 0]]\n",
    "hourglasses = []\n",
    "aux = 0\n",
    "for j in range(0,4):\n",
    "    for i in range(0,4):\n",
    "        aux = sum(arr[j][i:i+3]) + arr[j+1][i+1] + sum(arr[j+2][i:i+3])\n",
    "        hourglasses.append(aux)\n",
    "    \n",
    "max(hourglasses)"
   ]
  },
  {
   "cell_type": "markdown",
   "metadata": {},
   "source": [
    "## Arrays: Left Rotation\n",
    "\n",
    "https://www.hackerrank.com/challenges/ctci-array-left-rotation/problem"
   ]
  },
  {
   "cell_type": "code",
   "execution_count": 15,
   "metadata": {},
   "outputs": [
    {
     "data": {
      "text/plain": [
       "[5, 1, 2, 3, 4]"
      ]
     },
     "execution_count": 15,
     "metadata": {},
     "output_type": "execute_result"
    }
   ],
   "source": [
    "a = [1, 2, 3, 4, 5]\n",
    "aux = a[:4]\n",
    "b = a[4:]\n",
    "b.extend(aux)\n",
    "b"
   ]
  },
  {
   "cell_type": "markdown",
   "metadata": {},
   "source": [
    "## New Year Chaos\n",
    "\n",
    "https://www.hackerrank.com/challenges/new-year-chaos/problem"
   ]
  },
  {
   "cell_type": "code",
   "execution_count": 49,
   "metadata": {},
   "outputs": [
    {
     "data": {
      "text/plain": [
       "7"
      ]
     },
     "execution_count": 49,
     "metadata": {},
     "output_type": "execute_result"
    }
   ],
   "source": [
    "#s = [2, 1, 5, 3, 4]\n",
    "Q = [1,2,5,3,7,8,6,4]\n",
    "bribes = 0\n",
    "Q = [P-1 for P in Q]\n",
    "for i,P in enumerate(Q):\n",
    "    if P-i > 2:\n",
    "        print(\"Too chaotic\")\n",
    "        break\n",
    "    for j in range(max(P-1,0),i):\n",
    "        if Q[j] > P:\n",
    "            bribes +=1\n",
    "bribes"
   ]
  }
 ],
 "metadata": {
  "kernelspec": {
   "display_name": "Python 3",
   "language": "python",
   "name": "python3"
  },
  "language_info": {
   "codemirror_mode": {
    "name": "ipython",
    "version": 3
   },
   "file_extension": ".py",
   "mimetype": "text/x-python",
   "name": "python",
   "nbconvert_exporter": "python",
   "pygments_lexer": "ipython3",
   "version": "3.6.6"
  }
 },
 "nbformat": 4,
 "nbformat_minor": 2
}
