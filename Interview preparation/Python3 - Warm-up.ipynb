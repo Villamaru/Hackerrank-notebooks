{
 "cells": [
  {
   "cell_type": "markdown",
   "metadata": {},
   "source": [
    "## Sock Merchant\n",
    "\n",
    "https://www.hackerrank.com/challenges/sock-merchant/problem"
   ]
  },
  {
   "cell_type": "code",
   "execution_count": 1,
   "metadata": {},
   "outputs": [],
   "source": [
    "def sockMerchant(n, ar):\n",
    "    contador = 0\n",
    "    ar = list(ar)\n",
    "    while len(ar) >=2:\n",
    "        primer_num = ar[0]\n",
    "        sinpar=True\n",
    "        i = 1\n",
    "        while sinpar:\n",
    "            if primer_num == ar[i]:\n",
    "                contador = contador + 1\n",
    "                ar.pop(0)\n",
    "                ar.pop(i-1)\n",
    "                sinpar = False\n",
    "                i = 1\n",
    "            elif i == len(ar)-1:\n",
    "                ar.pop(0)\n",
    "                sinpar=False\n",
    "                i = 1\n",
    "            else:\n",
    "                i = i+1\n",
    "    return contador"
   ]
  },
  {
   "cell_type": "markdown",
   "metadata": {},
   "source": [
    "## Counting Valleys\n",
    "\n",
    "https://www.hackerrank.com/challenges/counting-valleys/problem"
   ]
  },
  {
   "cell_type": "code",
   "execution_count": 2,
   "metadata": {},
   "outputs": [
    {
     "name": "stdout",
     "output_type": "stream",
     "text": [
      "1\n"
     ]
    }
   ],
   "source": [
    "#Sample Input\n",
    "\n",
    "s = \"UDDDUDUU\"\n",
    "\n",
    "valleys = 0\n",
    "alt = 0\n",
    "\n",
    "for i in s:\n",
    "    if i == \"D\":\n",
    "        alt = alt - 1\n",
    "    elif i == \"U\":\n",
    "        alt = alt +1\n",
    "        if alt == 0:\n",
    "            valleys = valleys + 1\n",
    "print(valleys)\n",
    "    \n",
    "    \n",
    "    "
   ]
  },
  {
   "cell_type": "markdown",
   "metadata": {},
   "source": [
    "## Jumping on the Clouds\n",
    "\n",
    "https://www.hackerrank.com/challenges/jumping-on-the-clouds/problem"
   ]
  },
  {
   "cell_type": "code",
   "execution_count": 3,
   "metadata": {},
   "outputs": [
    {
     "name": "stdout",
     "output_type": "stream",
     "text": [
      "3\n"
     ]
    }
   ],
   "source": [
    "clouds = \"000010\"\n",
    "game = True\n",
    "i = 0\n",
    "jumps = 0\n",
    "while game:\n",
    "    try:\n",
    "        if clouds[i+2] == \"0\":\n",
    "            i = i+2\n",
    "        else:\n",
    "            i = i+1\n",
    "        jumps = jumps + 1\n",
    "        if i == len(clouds)-1:\n",
    "            game = False\n",
    "    except:\n",
    "        jumps = jumps + 1\n",
    "        game = False\n",
    "print(jumps)"
   ]
  },
  {
   "cell_type": "markdown",
   "metadata": {},
   "source": [
    "## Repeated String\n",
    "\n",
    "https://www.hackerrank.com/challenges/jumping-on-the-clouds/problem"
   ]
  },
  {
   "cell_type": "code",
   "execution_count": 4,
   "metadata": {},
   "outputs": [
    {
     "data": {
      "text/plain": [
       "7"
      ]
     },
     "execution_count": 4,
     "metadata": {},
     "output_type": "execute_result"
    }
   ],
   "source": [
    "s = \"aba\"\n",
    "n = 10\n",
    "qty = (s.count(\"a\") * int(n/len(s))) + s[:(n%len(s))].count(\"a\")\n",
    "qty"
   ]
  }
 ],
 "metadata": {
  "kernelspec": {
   "display_name": "Python 3",
   "language": "python",
   "name": "python3"
  },
  "language_info": {
   "codemirror_mode": {
    "name": "ipython",
    "version": 3
   },
   "file_extension": ".py",
   "mimetype": "text/x-python",
   "name": "python",
   "nbconvert_exporter": "python",
   "pygments_lexer": "ipython3",
   "version": "3.6.6"
  }
 },
 "nbformat": 4,
 "nbformat_minor": 2
}
